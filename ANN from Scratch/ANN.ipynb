{
 "cells": [
  {
   "cell_type": "code",
   "execution_count": 255,
   "id": "b330b05c-1341-477c-b306-293cb44b381e",
   "metadata": {},
   "outputs": [],
   "source": [
    "import numpy as np\n",
    "import matplotlib.pyplot as plt\n",
    "from sklearn.datasets import make_blobs\n",
    "from sklearn.metrics import accuracy_score\n",
    "import h5py"
   ]
  },
  {
   "cell_type": "code",
   "execution_count": 192,
   "id": "221eeaed-88de-4e3f-ba6a-5d3ba74dcca0",
   "metadata": {},
   "outputs": [],
   "source": [
    "X , y = make_blobs(n_features=2,centers=2,random_state=0)\n",
    "y = y.reshape((y.shape[0],1))"
   ]
  },
  {
   "cell_type": "code",
   "execution_count": 193,
   "id": "083c3dfd-bd7a-4c04-808c-10a50831a50a",
   "metadata": {},
   "outputs": [
    {
     "data": {
      "image/png": "[encoded data removed]",
      "text/plain": [
       "<Figure size 432x288 with 1 Axes>"
      ]
     },
     "metadata": {
      "needs_background": "light"
     },
     "output_type": "display_data"
    }
   ],
   "source": [
    "plt.scatter(X[:,0],X[:,1],c=y)\n",
    "plt.show()"
   ]
  },
  {
   "cell_type": "code",
   "execution_count": 194,
   "id": "747738f5-4a16-419f-aacc-4edb6351b95a",
   "metadata": {},
   "outputs": [],
   "source": [
    "def initialize(X):\n",
    "    W = np.random.randn(X.shape[1],1)\n",
    "    b = np.random.randn(1)\n",
    "    return W,b"
   ]
  },
  {
   "cell_type": "code",
   "execution_count": 236,
   "id": "9d7bb78a-4aec-45c4-a920-07a5267f6a6b",
   "metadata": {},
   "outputs": [
    {
     "name": "stdout",
     "output_type": "stream",
     "text": [
      "[1.47681395]\n"
     ]
    }
   ],
   "source": [
    "W,b = initialize(X)"
   ]
  },
  {
   "cell_type": "code",
   "execution_count": 196,
   "id": "51448c45-3f80-40f1-961f-15ae685ba8fa",
   "metadata": {},
   "outputs": [],
   "source": [
    "def Model(X,W,b):\n",
    "    Z = X.dot(W) + b\n",
    "    A = 1 /( 1+np.exp(-Z) )\n",
    "    return A"
   ]
  },
  {
   "cell_type": "code",
   "execution_count": 197,
   "id": "5eef27b3-1940-4da0-b9a5-93195a23497a",
   "metadata": {},
   "outputs": [
    {
     "name": "stdout",
     "output_type": "stream",
     "text": [
      "[[0.00170426]\n",
      " [0.20633026]\n",
      " [0.07748858]\n",
      " [0.20008327]\n",
      " [0.00979783]\n",
      " [0.03612666]\n",
      " [0.02865762]\n",
      " [0.00210764]\n",
      " [0.05064283]\n",
      " [0.16430173]\n",
      " [0.03788725]\n",
      " [0.08265202]\n",
      " [0.01249709]\n",
      " [0.07626664]\n",
      " [0.04267523]\n",
      " [0.00162158]\n",
      " [0.02269093]\n",
      " [0.07233409]\n",
      " [0.24443066]\n",
      " [0.08692017]\n",
      " [0.01850008]\n",
      " [0.03830721]\n",
      " [0.0498343 ]\n",
      " [0.06583199]\n",
      " [0.02838793]\n",
      " [0.02473388]\n",
      " [0.16495016]\n",
      " [0.01015858]\n",
      " [0.01340194]\n",
      " [0.01641702]\n",
      " [0.05535179]\n",
      " [0.02142987]\n",
      " [0.15807152]\n",
      " [0.0539359 ]\n",
      " [0.02960557]\n",
      " [0.00732555]\n",
      " [0.10103538]\n",
      " [0.02060327]\n",
      " [0.01374221]\n",
      " [0.19520615]\n",
      " [0.18211809]\n",
      " [0.0019088 ]\n",
      " [0.07060352]\n",
      " [0.02457975]\n",
      " [0.0664631 ]\n",
      " [0.02799421]\n",
      " [0.09179754]\n",
      " [0.14272107]\n",
      " [0.1368818 ]\n",
      " [0.02273345]\n",
      " [0.07580299]\n",
      " [0.17328959]\n",
      " [0.00158967]\n",
      " [0.01213012]\n",
      " [0.00395172]\n",
      " [0.01888376]\n",
      " [0.00595498]\n",
      " [0.07983371]\n",
      " [0.01350732]\n",
      " [0.05413842]\n",
      " [0.06967174]\n",
      " [0.00950813]\n",
      " [0.05451428]\n",
      " [0.01734044]\n",
      " [0.01038053]\n",
      " [0.03053807]\n",
      " [0.10089158]\n",
      " [0.00494268]\n",
      " [0.00904533]\n",
      " [0.01459277]\n",
      " [0.02995096]\n",
      " [0.1120804 ]\n",
      " [0.00310212]\n",
      " [0.01063733]\n",
      " [0.16540377]\n",
      " [0.06938915]\n",
      " [0.10824751]\n",
      " [0.01402302]\n",
      " [0.06260924]\n",
      " [0.02240258]\n",
      " [0.04724522]\n",
      " [0.02753699]\n",
      " [0.07160544]\n",
      " [0.01027635]\n",
      " [0.09185551]\n",
      " [0.06325817]\n",
      " [0.01696912]\n",
      " [0.00319879]\n",
      " [0.11304359]\n",
      " [0.02718472]\n",
      " [0.01224536]\n",
      " [0.02477817]\n",
      " [0.07590263]\n",
      " [0.28695694]\n",
      " [0.0050692 ]\n",
      " [0.30526022]\n",
      " [0.27545997]\n",
      " [0.01481785]\n",
      " [0.18466501]\n",
      " [0.12279047]]\n"
     ]
    }
   ],
   "source": [
    "A = Model(X,W,b)\n",
    "print(A)"
   ]
  },
  {
   "cell_type": "code",
   "execution_count": 198,
   "id": "1d30177b-e051-4bab-9f8f-f846f48d6227",
   "metadata": {},
   "outputs": [],
   "source": [
    "def log_loss(A, y):\n",
    "    return 1 / len(y) * np.sum(-y * np.log(A) - (1 - y) * np.log(1 - A))"
   ]
  },
  {
   "cell_type": "code",
   "execution_count": 199,
   "id": "cca45d38-c329-42cc-a4b4-bd42bc3afdc6",
   "metadata": {},
   "outputs": [
    {
     "name": "stdout",
     "output_type": "stream",
     "text": [
      "1.6101774285699872\n"
     ]
    }
   ],
   "source": [
    "print(log_loss(A,y))"
   ]
  },
  {
   "cell_type": "code",
   "execution_count": 241,
   "id": "16061ccc-ac5c-4c76-acd4-b19d8c9a5754",
   "metadata": {},
   "outputs": [],
   "source": [
    "def Gradient(A,X,y):\n",
    "    Dw = ( 1 / len(y) )* np.dot( X.T , (A-y) )\n",
    "    Db = ( 1 / len(y) ) * np.sum( A-y )\n",
    "    return Dw,Db"
   ]
  },
  {
   "cell_type": "code",
   "execution_count": 242,
   "id": "14cd4e28-7f4c-4bb0-b223-68d98ff933d4",
   "metadata": {},
   "outputs": [],
   "source": [
    "Dw,Db = Gradient(A,X,y)"
   ]
  },
  {
   "cell_type": "code",
   "execution_count": 243,
   "id": "0b859c58-58c2-45a8-81c6-92a225a2a283",
   "metadata": {},
   "outputs": [],
   "source": [
    "def Update(W,b,Dw,Db,learning_rate):\n",
    "    W = W - learning_rate*Dw\n",
    "    b =  b - learning_rate * Db\n",
    "    return W,b\n",
    "\n",
    "def predict(X, W, b):\n",
    "    A = Model(X, W, b)\n",
    "    # print(A)\n",
    "    return A >= 0.5    "
   ]
  },
  {
   "cell_type": "code",
   "execution_count": 250,
   "id": "7491b59a-a47d-43e7-a07f-2e548f3c536d",
   "metadata": {},
   "outputs": [],
   "source": [
    "def artificial_neuron(X,y,learning_rate=0.1,num_iter=100):\n",
    "    W,b = initialize(X)\n",
    "    Loss = []\n",
    "    for i in range(num_iter):\n",
    "         A = Model(X,W,b)\n",
    "         Loss.append(log_loss(A,y))\n",
    "         Dw,Db = Gradient(A,X,y)\n",
    "         W,b=Update(W,b,Dw,Db,learning_rate)  \n",
    "    #y_pred = predict(X,W,b)\n",
    "    #print(accuracy_score(y,y_pred))\n",
    "    plt.plot(Loss)\n",
    "    plt.show()\n",
    "    x0 = np.linspace(-1,4,100)\n",
    "    x1 =  (-W[0]*x0 - b)/W[1]\n",
    "    plt.scatter(X[:,0],X[:,1], c=y)\n",
    "    plt.plot(x0,x1,c='orange',lw=3)\n",
    "    plt.show()\n",
    "    "
   ]
  },
  {
   "cell_type": "code",
   "execution_count": 251,
   "id": "854003fc-d5e7-4b72-8801-e88ea298278b",
   "metadata": {},
   "outputs": [
    {
     "data": {
      "image/png": "[encoded data removed]",
      "text/plain": [
       "<Figure size 432x288 with 1 Axes>"
      ]
     },
     "metadata": {
      "needs_background": "light"
     },
     "output_type": "display_data"
    },
    {
     "data": {
      "image/png": "[encoded data removed]",
      "text/plain": [
       "<Figure size 432x288 with 1 Axes>"
      ]
     },
     "metadata": {
      "needs_background": "light"
     },
     "output_type": "display_data"
    }
   ],
   "source": [
    "artificial_neuron(X,y)"
   ]
  },
  {
   "cell_type": "code",
   "execution_count": 259,
   "id": "07557d39-3bae-4f0d-8417-a849088146dd",
   "metadata": {},
   "outputs": [],
   "source": [
    "def load_data():\n",
    "    train_dataset = h5py.File('./datasets/trainset.hdf5', \"r\")\n",
    "    X_train = np.array(train_dataset[\"X_train\"][:])\n",
    "    y_train = np.array(train_dataset[\"Y_train\"][:]) \n",
    "    test_dataset = h5py.File('./datasets/testset.hdf5', \"r\")\n",
    "    X_test = np.array(test_dataset[\"X_test\"][:]) \n",
    "    y_test = np.array(test_dataset[\"Y_test\"][:]) \n",
    "    return X_train, y_train, X_test, y_test"
   ]
  },
  {
   "cell_type": "code",
   "execution_count": 267,
   "id": "d6bc0548-66dd-41f9-831f-d40c5b189c94",
   "metadata": {},
   "outputs": [
    {
     "name": "stdout",
     "output_type": "stream",
     "text": [
      "(1000, 64, 64)\n",
      "(1000, 1)\n"
     ]
    }
   ],
   "source": [
    "X_train, y_train, X_test, y_test = load_data()\n",
    "print(X_train.shape)\n",
    "print(y_train.shape)"
   ]
  },
  {
   "cell_type": "code",
   "execution_count": 263,
   "id": "c6b85c43-7a1e-4e94-9f3d-5002748986e5",
   "metadata": {},
   "outputs": [],
   "source": [
    "def artificial_neuron_image(X,y,learning_rate=0.1,num_iter=100):\n",
    "    W,b = initialize(X)\n",
    "    Loss = []\n",
    "    for i in range(num_iter):\n",
    "         A = Model(X,W,b)\n",
    "         Loss.append(log_loss(A,y))\n",
    "         Dw,Db = Gradient(A,X,y)\n",
    "         W,b=Update(W,b,Dw,Db,learning_rate)  "
   ]
  },
  {
   "cell_type": "code",
   "execution_count": 266,
   "id": "32bab515-9893-40ee-907f-fbc5bde88d23",
   "metadata": {},
   "outputs": [],
   "source": [
    "#artificial_neuron_image(X_train,y_train)"
   ]
  },
  {
   "cell_type": "code",
   "execution_count": null,
   "id": "c8ebab10-578f-4197-921d-38f53ebb329c",
   "metadata": {},
   "outputs": [],
   "source": []
  }
 ],
 "metadata": {
  "kernelspec": {
   "display_name": "Python 3",
   "language": "python",
   "name": "python3"
  },
  "language_info": {
   "codemirror_mode": {
    "name": "ipython",
    "version": 3
   },
   "file_extension": ".py",
   "mimetype": "text/x-python",
   "name": "python",
   "nbconvert_exporter": "python",
   "pygments_lexer": "ipython3",
   "version": "3.8.8"
  }
 },
 "nbformat": 4,
 "nbformat_minor": 5
}
