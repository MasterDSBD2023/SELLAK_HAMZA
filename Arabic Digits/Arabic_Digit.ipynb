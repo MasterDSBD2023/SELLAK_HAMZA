{
  "nbformat": 4,
  "nbformat_minor": 0,
  "metadata": {
    "colab": {
      "provenance": [],
      "collapsed_sections": []
    },
    "kernelspec": {
      "name": "python3",
      "display_name": "Python 3"
    },
    "language_info": {
      "name": "python"
    }
  },
  "cells": [
    {
      "cell_type": "code",
      "execution_count": 1,
      "metadata": {
        "colab": {
          "base_uri": "https://localhost:8080/"
        },
        "id": "VFgBch7kTq-i",
        "outputId": "6fe35993-55e2-4b47-d2f1-88789992648e"
      },
      "outputs": [
        {
          "output_type": "stream",
          "name": "stdout",
          "text": [
            "Mounted at /Dataset\n"
          ]
        }
      ],
      "source": [
        "from google.colab import drive\n",
        "drive.mount('/Dataset')"
      ]
    },
    {
      "cell_type": "code",
      "source": [
        "import tensorflow as tf\n",
        "import numpy as np\n",
        "from tensorflow.keras.datasets import mnist\n",
        "from tensorflow.keras.layers import Input, Conv2D, Dense, Dropout, MaxPool2D, Flatten\n",
        "from tensorflow.keras import Model, Sequential\n",
        "from tensorflow.keras.losses import sparse_categorical_crossentropy\n",
        "from tensorflow.keras.metrics import sparse_categorical_accuracy\n",
        "from tensorflow.keras.optimizers import Adam\n",
        "import pandas as pd"
      ],
      "metadata": {
        "id": "vrreeOZiWh2j"
      },
      "execution_count": 7,
      "outputs": []
    },
    {
      "cell_type": "code",
      "source": [
        "X_train = pd.read_csv(\"/Dataset/MyDrive/Dataset/Arabic/csvTrainImages.csv\").values\n",
        "Y_train = pd.read_csv(\"/Dataset/MyDrive/Dataset/Arabic/csvTrainLabel.csv\").values\n",
        "X_test = pd.read_csv(\"/Dataset/MyDrive/Dataset/Arabic/csvTestImages.csv\").values\n",
        "Y_test = pd.read_csv(\"/Dataset/MyDrive/Dataset/Arabic/csvTestLabel.csv\").values"
      ],
      "metadata": {
        "id": "rR35uLqoWrmU"
      },
      "execution_count": 8,
      "outputs": []
    },
    {
      "cell_type": "code",
      "source": [
        "X_train, X_test = (X_train / 255.0), (X_test / 255.0)"
      ],
      "metadata": {
        "id": "owkiLIWpXlTk"
      },
      "execution_count": 9,
      "outputs": []
    },
    {
      "cell_type": "code",
      "source": [
        "X_train = X_train.reshape(-1, 28, 28, 1)\n",
        "X_test = X_test.reshape(-1, 28, 28, 1)\n",
        "X_train.shape"
      ],
      "metadata": {
        "colab": {
          "base_uri": "https://localhost:8080/"
        },
        "id": "A_M3xfT0Yacl",
        "outputId": "b7a86aa0-f134-4948-d6ed-bfc648e73352"
      },
      "execution_count": 10,
      "outputs": [
        {
          "output_type": "execute_result",
          "data": {
            "text/plain": [
              "(59999, 28, 28, 1)"
            ]
          },
          "metadata": {},
          "execution_count": 10
        }
      ]
    },
    {
      "cell_type": "code",
      "source": [
        "model = Sequential()\n",
        "model.add(Input(shape=(28, 28, 1)))\n",
        "model.add(Conv2D(10, kernel_size=5, activation='relu')) # 10-channel, 5x5 convolution followed by ReLU\n",
        "model.add(MaxPool2D(2)) # 2x2 maxpool -> 14x14x1\n",
        "model.add(Conv2D(20, kernel_size=5, activation='relu'))\n",
        "model.add(MaxPool2D(2))\n",
        "model.add(Flatten())\n",
        "model.add(Dense(20, activation = \"relu\"))\n",
        "model.add(Dropout(0.5))\n",
        "model.add(Dense(10, activation='softmax'))"
      ],
      "metadata": {
        "id": "uVGeagwPYd7b"
      },
      "execution_count": 11,
      "outputs": []
    },
    {
      "cell_type": "code",
      "source": [
        "model.summary()\n"
      ],
      "metadata": {
        "colab": {
          "base_uri": "https://localhost:8080/"
        },
        "id": "3nP3OkJHYgAd",
        "outputId": "c5abc999-6a39-43e0-910a-c01cac69348e"
      },
      "execution_count": 12,
      "outputs": [
        {
          "output_type": "stream",
          "name": "stdout",
          "text": [
            "Model: \"sequential\"\n",
            "_________________________________________________________________\n",
            " Layer (type)                Output Shape              Param #   \n",
            "=================================================================\n",
            " conv2d (Conv2D)             (None, 24, 24, 10)        260       \n",
            "                                                                 \n",
            " max_pooling2d (MaxPooling2D  (None, 12, 12, 10)       0         \n",
            " )                                                               \n",
            "                                                                 \n",
            " conv2d_1 (Conv2D)           (None, 8, 8, 20)          5020      \n",
            "                                                                 \n",
            " max_pooling2d_1 (MaxPooling  (None, 4, 4, 20)         0         \n",
            " 2D)                                                             \n",
            "                                                                 \n",
            " flatten (Flatten)           (None, 320)               0         \n",
            "                                                                 \n",
            " dense (Dense)               (None, 20)                6420      \n",
            "                                                                 \n",
            " dropout (Dropout)           (None, 20)                0         \n",
            "                                                                 \n",
            " dense_1 (Dense)             (None, 10)                210       \n",
            "                                                                 \n",
            "=================================================================\n",
            "Total params: 11,910\n",
            "Trainable params: 11,910\n",
            "Non-trainable params: 0\n",
            "_________________________________________________________________\n"
          ]
        }
      ]
    },
    {
      "cell_type": "code",
      "source": [
        "opt = Adam(learning_rate=0.001)"
      ],
      "metadata": {
        "id": "wGG4RxNRYiVU"
      },
      "execution_count": 13,
      "outputs": []
    },
    {
      "cell_type": "code",
      "source": [
        "model.compile(\n",
        "    optimizer=opt,\n",
        "    loss=sparse_categorical_crossentropy,\n",
        "    metrics=[sparse_categorical_accuracy],\n",
        ")"
      ],
      "metadata": {
        "id": "AfgPSeJ5YkU9"
      },
      "execution_count": 14,
      "outputs": []
    },
    {
      "cell_type": "code",
      "source": [
        "bs = 64\n",
        "n_epoch = 10\n",
        "\n",
        "model.fit(\n",
        "    X_train,\n",
        "    Y_train,\n",
        "    batch_size=bs,\n",
        "    epochs=n_epoch,\n",
        "    validation_data=(X_test, Y_test),\n",
        ")"
      ],
      "metadata": {
        "colab": {
          "base_uri": "https://localhost:8080/"
        },
        "id": "JCTo3mz2YmGQ",
        "outputId": "3bb2eee0-c4e3-42ae-c3f1-9a0154ecd237"
      },
      "execution_count": 15,
      "outputs": [
        {
          "output_type": "stream",
          "name": "stdout",
          "text": [
            "Epoch 1/10\n",
            "938/938 [==============================] - 33s 34ms/step - loss: 0.6178 - sparse_categorical_accuracy: 0.7789 - val_loss: 0.0869 - val_sparse_categorical_accuracy: 0.9761\n",
            "Epoch 2/10\n",
            "938/938 [==============================] - 29s 31ms/step - loss: 0.3071 - sparse_categorical_accuracy: 0.8864 - val_loss: 0.0663 - val_sparse_categorical_accuracy: 0.9808\n",
            "Epoch 3/10\n",
            "938/938 [==============================] - 36s 39ms/step - loss: 0.2665 - sparse_categorical_accuracy: 0.9016 - val_loss: 0.0552 - val_sparse_categorical_accuracy: 0.9829\n",
            "Epoch 4/10\n",
            "938/938 [==============================] - 29s 31ms/step - loss: 0.2469 - sparse_categorical_accuracy: 0.9094 - val_loss: 0.0533 - val_sparse_categorical_accuracy: 0.9842\n",
            "Epoch 5/10\n",
            "938/938 [==============================] - 29s 31ms/step - loss: 0.2302 - sparse_categorical_accuracy: 0.9147 - val_loss: 0.0519 - val_sparse_categorical_accuracy: 0.9855\n",
            "Epoch 6/10\n",
            "938/938 [==============================] - 29s 31ms/step - loss: 0.2217 - sparse_categorical_accuracy: 0.9155 - val_loss: 0.0482 - val_sparse_categorical_accuracy: 0.9865\n",
            "Epoch 7/10\n",
            "938/938 [==============================] - 31s 33ms/step - loss: 0.2086 - sparse_categorical_accuracy: 0.9192 - val_loss: 0.0520 - val_sparse_categorical_accuracy: 0.9862\n",
            "Epoch 8/10\n",
            "938/938 [==============================] - 29s 31ms/step - loss: 0.2074 - sparse_categorical_accuracy: 0.9191 - val_loss: 0.0507 - val_sparse_categorical_accuracy: 0.9863\n",
            "Epoch 9/10\n",
            "938/938 [==============================] - 31s 33ms/step - loss: 0.1997 - sparse_categorical_accuracy: 0.9236 - val_loss: 0.0442 - val_sparse_categorical_accuracy: 0.9884\n",
            "Epoch 10/10\n",
            "938/938 [==============================] - 29s 31ms/step - loss: 0.1933 - sparse_categorical_accuracy: 0.9262 - val_loss: 0.0461 - val_sparse_categorical_accuracy: 0.9887\n"
          ]
        },
        {
          "output_type": "execute_result",
          "data": {
            "text/plain": [
              "<keras.callbacks.History at 0x7fb9702dd690>"
            ]
          },
          "metadata": {},
          "execution_count": 15
        }
      ]
    },
    {
      "cell_type": "code",
      "source": [
        "pred = model.predict(X_test[None,3])\n",
        "pred = np.argmax(pred, axis=1)\n",
        "print(pred)\n"
      ],
      "metadata": {
        "colab": {
          "base_uri": "https://localhost:8080/"
        },
        "id": "VhlnDxa3YoFv",
        "outputId": "74eb6c77-8147-469b-b8b4-ded7e782e2b8"
      },
      "execution_count": 23,
      "outputs": [
        {
          "output_type": "stream",
          "name": "stdout",
          "text": [
            "1/1 [==============================] - 0s 16ms/step\n",
            "[4]\n"
          ]
        }
      ]
    },
    {
      "cell_type": "code",
      "source": [],
      "metadata": {
        "id": "ewpbbFb8a_W5"
      },
      "execution_count": null,
      "outputs": []
    }
  ]
}